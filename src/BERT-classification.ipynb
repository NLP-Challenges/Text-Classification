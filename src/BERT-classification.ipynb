{
 "cells": [
  {
   "cell_type": "code",
   "execution_count": 6,
   "metadata": {},
   "outputs": [],
   "source": [
    "import pytorch_lightning as pl\n",
    "from pytorch_lightning.loggers import WandbLogger\n",
    "import pandas as pd\n",
    "\n",
    "from transformers import BertTokenizer, BertForSequenceClassification\n",
    "\n",
    "import torch\n",
    "from torch.utils.data import Dataset, DataLoader\n",
    "from torch.optim import Adam\n",
    "\n",
    "import wandb"
   ]
  },
  {
   "cell_type": "markdown",
   "metadata": {},
   "source": [
    "## Data Loader & Tokenizer"
   ]
  },
  {
   "cell_type": "code",
   "execution_count": 9,
   "metadata": {},
   "outputs": [],
   "source": [
    "class ClassifierDataset(Dataset):\n",
    "    def __init__(self, dataframe, tokenizer, max_len):\n",
    "        self.tokenizer = tokenizer\n",
    "        self.data = dataframe\n",
    "        self.text = dataframe.text\n",
    "        self.labels = dataframe.label\n",
    "        self.max_len = max_len\n",
    "\n",
    "    def __len__(self):\n",
    "        return len(self.text)\n",
    "\n",
    "    def __getitem__(self, index):\n",
    "        text = str(self.text[index])\n",
    "        text = \" \".join(text.split()) # Removes any extra whitespace\n",
    "\n",
    "        # https://huggingface.co/docs/transformers/v4.34.0/en/internal/tokenization_utils#transformers.PreTrainedTokenizerBase.__call__\n",
    "        inputs = self.tokenizer(\n",
    "            text,\n",
    "            None,\n",
    "            add_special_tokens=True, # Add '[CLS]' and '[SEP]', default True\n",
    "            max_length=self.max_len, # Maximum length to use by one of the truncation/padding parameters\n",
    "            padding='max_length', # Pad to a maximum length specified with the argument max_length\n",
    "            truncation=True, # Truncate to a maximum length specified with the argument max_length\n",
    "        )\n",
    "        ids = inputs['input_ids'] # Indices of input sequence tokens in the vocabulary\n",
    "        mask = inputs['attention_mask'] # Mask to avoid performing attention on padding token indices\n",
    "\n",
    "        return {\n",
    "            'ids': torch.tensor(ids, dtype=torch.long),\n",
    "            'mask': torch.tensor(mask, dtype=torch.long),\n",
    "            'labels': torch.tensor(self.labels[index], dtype=torch.long)\n",
    "        }\n",
    "\n",
    "class BERTClassifier(pl.LightningModule):\n",
    "    def __init__(self, train_df, val_df, tokenizer, hparams):\n",
    "        super(BERTClassifier, self).__init__()\n",
    "\n",
    "        # Save hyperparameters\n",
    "        self.hparams.update(hparams)\n",
    "        self.__configure_from_hyperparams()\n",
    "\n",
    "        self.train_df = train_df\n",
    "        self.val_df = val_df\n",
    "        self.tokenizer = tokenizer\n",
    "\n",
    "        self.model = BertForSequenceClassification.from_pretrained('bert-base-multilingual-cased', num_labels=3)\n",
    "    \n",
    "    def forward(self, ids, mask):\n",
    "        output = self.model(ids, attention_mask=mask)\n",
    "        return output.logits\n",
    "\n",
    "    def training_step(self, batch, batch_nb):\n",
    "        preds, loss, accuracy = self.__get_preds_loss(batch)\n",
    "    \n",
    "        self.log(\n",
    "            'train/accuracy',\n",
    "            accuracy,\n",
    "            on_step=False,\n",
    "            on_epoch=True,\n",
    "            prog_bar=True,\n",
    "            logger=True,\n",
    "        )\n",
    "        self.log('train/loss', loss)\n",
    "\n",
    "        return loss\n",
    "\n",
    "\n",
    "    def validation_step(self, batch, batch_nb):\n",
    "        preds, loss, accuracy = self.__get_preds_loss(batch)\n",
    "        \n",
    "        self.log(\n",
    "            'val/accuracy',\n",
    "            accuracy,\n",
    "            on_step=False,\n",
    "            on_epoch=True,\n",
    "            prog_bar=True,\n",
    "            logger=True,\n",
    "        )\n",
    "        self.log('val/loss', loss)\n",
    "\n",
    "        return loss\n",
    "\n",
    "    def configure_optimizers(self):\n",
    "        return Adam(self.parameters(), lr=1e-5)\n",
    "\n",
    "    def train_dataloader(self):\n",
    "        return get_dataloader(self.train_df, self.tokenizer, self.hparams.max_len, batch_size=self.hparams.batch_size)\n",
    "      \n",
    "    def val_dataloader(self):\n",
    "        return get_dataloader(self.val_df, self.tokenizer, self.hparams.max_len, batch_size=self.hparams.batch_size, shuffle=False)\n",
    "\n",
    "    def __configure_from_hyperparams(self):\n",
    "        # Set optional hyperparameters to default values\n",
    "        self.max_len = self.hparams.get(\"max_len\", 100)\n",
    "        self.batch_size =  self.hparams.get(\"batch_size\", 32)\n",
    "\n",
    "    def __get_preds_loss(self, batch):\n",
    "        # Helper function to get predictions and loss\n",
    "        ids = batch['ids']\n",
    "        mask = batch['mask']\n",
    "        labels = batch['labels']\n",
    "        \n",
    "        preds = self(ids, mask)\n",
    "        loss = torch.nn.CrossEntropyLoss()(preds, labels)\n",
    "\n",
    "        # Calculate accuracy\n",
    "        _, predicted = torch.max(preds, 1)\n",
    "        correct = (predicted == labels).sum().item()\n",
    "        total = labels.size(0)\n",
    "        accuracy = correct / total\n",
    "\n",
    "        return preds, loss, accuracy\n",
    "\n",
    "    \n",
    "# Load data and return DataLoader\n",
    "def get_dataloader(df, tokenizer, max_len, batch_size=32, shuffle=True):\n",
    "    label_mapping = {'other': 0, 'question': 1, 'concern': 2}\n",
    "    df['label'] = df['label'].map(label_mapping)\n",
    "    dataset = ClassifierDataset(df, tokenizer, max_len)\n",
    "\n",
    "    # Create DataLoader\n",
    "    params = {'batch_size': batch_size, 'shuffle': shuffle, 'num_workers': 0}\n",
    "    data_loader = DataLoader(dataset, **params)\n",
    "    return data_loader\n",
    "\n",
    "# Evaluate model\n",
    "def evaluate_model(model, data_loader):\n",
    "    model.eval()\n",
    "    correct_predictions = 0\n",
    "    total_predictions = 0\n",
    "    \n",
    "    with torch.no_grad():\n",
    "        for _, data in enumerate(data_loader, 0):\n",
    "            ids = data['ids']\n",
    "            mask = data['mask']\n",
    "            labels = data['labels']\n",
    "            \n",
    "            outputs = model(ids, attention_mask=mask)\n",
    "            _, predicted = torch.max(outputs.logits, 1)\n",
    "            \n",
    "            correct_predictions += (predicted == labels).sum().item()\n",
    "            total_predictions += labels.size(0)\n",
    "            \n",
    "    accuracy = correct_predictions / total_predictions\n",
    "    return accuracy"
   ]
  },
  {
   "cell_type": "code",
   "execution_count": 10,
   "metadata": {},
   "outputs": [
    {
     "name": "stderr",
     "output_type": "stream",
     "text": [
      "Some weights of BertForSequenceClassification were not initialized from the model checkpoint at bert-base-multilingual-cased and are newly initialized: ['classifier.bias', 'classifier.weight']\n",
      "You should probably TRAIN this model on a down-stream task to be able to use it for predictions and inference.\n"
     ]
    },
    {
     "data": {
      "text/html": [
       "Tracking run with wandb version 0.15.12"
      ],
      "text/plain": [
       "<IPython.core.display.HTML object>"
      ]
     },
     "metadata": {},
     "output_type": "display_data"
    },
    {
     "data": {
      "text/html": [
       "Run data is saved locally in <code>./wandb/run-20231009_150840-sn0fheu2</code>"
      ],
      "text/plain": [
       "<IPython.core.display.HTML object>"
      ]
     },
     "metadata": {},
     "output_type": "display_data"
    },
    {
     "data": {
      "text/html": [
       "Syncing run <strong><a href='https://wandb.ai/yvokeller/data-chatbot/runs/sn0fheu2' target=\"_blank\">ancient-grass-4</a></strong> to <a href='https://wandb.ai/yvokeller/data-chatbot' target=\"_blank\">Weights & Biases</a> (<a href='https://wandb.me/run' target=\"_blank\">docs</a>)<br/>"
      ],
      "text/plain": [
       "<IPython.core.display.HTML object>"
      ]
     },
     "metadata": {},
     "output_type": "display_data"
    },
    {
     "data": {
      "text/html": [
       " View project at <a href='https://wandb.ai/yvokeller/data-chatbot' target=\"_blank\">https://wandb.ai/yvokeller/data-chatbot</a>"
      ],
      "text/plain": [
       "<IPython.core.display.HTML object>"
      ]
     },
     "metadata": {},
     "output_type": "display_data"
    },
    {
     "data": {
      "text/html": [
       " View run at <a href='https://wandb.ai/yvokeller/data-chatbot/runs/sn0fheu2' target=\"_blank\">https://wandb.ai/yvokeller/data-chatbot/runs/sn0fheu2</a>"
      ],
      "text/plain": [
       "<IPython.core.display.HTML object>"
      ]
     },
     "metadata": {},
     "output_type": "display_data"
    },
    {
     "name": "stderr",
     "output_type": "stream",
     "text": [
      "GPU available: True (mps), used: True\n",
      "TPU available: False, using: 0 TPU cores\n",
      "IPU available: False, using: 0 IPUs\n",
      "HPU available: False, using: 0 HPUs\n",
      "\n",
      "  | Name  | Type                          | Params\n",
      "--------------------------------------------------------\n",
      "0 | model | BertForSequenceClassification | 177 M \n",
      "--------------------------------------------------------\n",
      "177 M     Trainable params\n",
      "0         Non-trainable params\n",
      "177 M     Total params\n",
      "711.423   Total estimated model params size (MB)\n"
     ]
    },
    {
     "data": {
      "application/vnd.jupyter.widget-view+json": {
       "model_id": "0e94afce73044362aaaf41f51719d44d",
       "version_major": 2,
       "version_minor": 0
      },
      "text/plain": [
       "Sanity Checking: 0it [00:00, ?it/s]"
      ]
     },
     "metadata": {},
     "output_type": "display_data"
    },
    {
     "name": "stderr",
     "output_type": "stream",
     "text": [
      "/opt/homebrew/Caskroom/miniforge/base/envs/deep-learning/lib/python3.10/site-packages/pytorch_lightning/trainer/connectors/data_connector.py:442: PossibleUserWarning: The dataloader, val_dataloader, does not have many workers which may be a bottleneck. Consider increasing the value of the `num_workers` argument` (try 12 which is the number of cpus on this machine) in the `DataLoader` init to improve performance.\n",
      "  rank_zero_warn(\n",
      "/opt/homebrew/Caskroom/miniforge/base/envs/deep-learning/lib/python3.10/site-packages/pytorch_lightning/trainer/connectors/data_connector.py:442: PossibleUserWarning: The dataloader, train_dataloader, does not have many workers which may be a bottleneck. Consider increasing the value of the `num_workers` argument` (try 12 which is the number of cpus on this machine) in the `DataLoader` init to improve performance.\n",
      "  rank_zero_warn(\n"
     ]
    },
    {
     "data": {
      "application/vnd.jupyter.widget-view+json": {
       "model_id": "64f122dbbd714b1bae7dbc05f7bbbfa4",
       "version_major": 2,
       "version_minor": 0
      },
      "text/plain": [
       "Training: 0it [00:00, ?it/s]"
      ]
     },
     "metadata": {},
     "output_type": "display_data"
    },
    {
     "data": {
      "application/vnd.jupyter.widget-view+json": {
       "model_id": "293b53c9297549f4a4544c27b0fabe44",
       "version_major": 2,
       "version_minor": 0
      },
      "text/plain": [
       "Validation: 0it [00:00, ?it/s]"
      ]
     },
     "metadata": {},
     "output_type": "display_data"
    },
    {
     "data": {
      "application/vnd.jupyter.widget-view+json": {
       "model_id": "667ec75517534c2b908e481d8a9e7f8f",
       "version_major": 2,
       "version_minor": 0
      },
      "text/plain": [
       "Validation: 0it [00:00, ?it/s]"
      ]
     },
     "metadata": {},
     "output_type": "display_data"
    },
    {
     "data": {
      "application/vnd.jupyter.widget-view+json": {
       "model_id": "47e8db83475e4ef5bb8e980143e9cb6c",
       "version_major": 2,
       "version_minor": 0
      },
      "text/plain": [
       "Validation: 0it [00:00, ?it/s]"
      ]
     },
     "metadata": {},
     "output_type": "display_data"
    },
    {
     "data": {
      "application/vnd.jupyter.widget-view+json": {
       "model_id": "b5165d4647b94c52bf21fcedc9ac8405",
       "version_major": 2,
       "version_minor": 0
      },
      "text/plain": [
       "Validation: 0it [00:00, ?it/s]"
      ]
     },
     "metadata": {},
     "output_type": "display_data"
    },
    {
     "data": {
      "application/vnd.jupyter.widget-view+json": {
       "model_id": "aa15b3dde04c43deaa2b3b184c19ec55",
       "version_major": 2,
       "version_minor": 0
      },
      "text/plain": [
       "Validation: 0it [00:00, ?it/s]"
      ]
     },
     "metadata": {},
     "output_type": "display_data"
    },
    {
     "name": "stderr",
     "output_type": "stream",
     "text": [
      "`Trainer.fit` stopped: `max_epochs=5` reached.\n"
     ]
    },
    {
     "data": {
      "text/html": [
       "Waiting for W&B process to finish... <strong style=\"color:green\">(success).</strong>"
      ],
      "text/plain": [
       "<IPython.core.display.HTML object>"
      ]
     },
     "metadata": {},
     "output_type": "display_data"
    },
    {
     "name": "stderr",
     "output_type": "stream",
     "text": [
      "wandb: WARNING Source type is set to 'repo' but some required information is missing from the environment. A job will not be created from this run. See https://docs.wandb.ai/guides/launch/create-job\n"
     ]
    },
    {
     "data": {
      "text/html": [
       "<style>\n",
       "    table.wandb td:nth-child(1) { padding: 0 10px; text-align: left ; width: auto;} td:nth-child(2) {text-align: left ; width: 100%}\n",
       "    .wandb-row { display: flex; flex-direction: row; flex-wrap: wrap; justify-content: flex-start; width: 100% }\n",
       "    .wandb-col { display: flex; flex-direction: column; flex-basis: 100%; flex: 1; padding: 10px; }\n",
       "    </style>\n",
       "<div class=\"wandb-row\"><div class=\"wandb-col\"><h3>Run history:</h3><br/><table class=\"wandb\"><tr><td>epoch</td><td>▁▁▁▃▃▃▅▅▅▆▆▆███</td></tr><tr><td>train/accuracy</td><td>▁▁███</td></tr><tr><td>train/loss</td><td>█▇▃▃▁</td></tr><tr><td>trainer/global_step</td><td>▁▁▁▃▃▃▅▅▅▆▆▆███</td></tr><tr><td>val/accuracy</td><td>▁▁▁▁▁</td></tr><tr><td>val/loss</td><td>█▇▅▃▁</td></tr></table><br/></div><div class=\"wandb-col\"><h3>Run summary:</h3><br/><table class=\"wandb\"><tr><td>epoch</td><td>4</td></tr><tr><td>train/accuracy</td><td>0.66667</td></tr><tr><td>train/loss</td><td>0.90171</td></tr><tr><td>trainer/global_step</td><td>4</td></tr><tr><td>val/accuracy</td><td>0.33333</td></tr><tr><td>val/loss</td><td>1.06055</td></tr></table><br/></div></div>"
      ],
      "text/plain": [
       "<IPython.core.display.HTML object>"
      ]
     },
     "metadata": {},
     "output_type": "display_data"
    },
    {
     "data": {
      "text/html": [
       " View run <strong style=\"color:#cdcd00\">ancient-grass-4</strong> at: <a href='https://wandb.ai/yvokeller/data-chatbot/runs/sn0fheu2' target=\"_blank\">https://wandb.ai/yvokeller/data-chatbot/runs/sn0fheu2</a><br/>Synced 6 W&B file(s), 0 media file(s), 0 artifact file(s) and 0 other file(s)"
      ],
      "text/plain": [
       "<IPython.core.display.HTML object>"
      ]
     },
     "metadata": {},
     "output_type": "display_data"
    },
    {
     "data": {
      "text/html": [
       "Find logs at: <code>./wandb/run-20231009_150840-sn0fheu2/logs</code>"
      ],
      "text/plain": [
       "<IPython.core.display.HTML object>"
      ]
     },
     "metadata": {},
     "output_type": "display_data"
    }
   ],
   "source": [
    "# WandB initialization \n",
    "wandb.login()\n",
    "\n",
    "# Initialize BERT tokenizer\n",
    "tokenizer = BertTokenizer.from_pretrained('bert-base-multilingual-cased')\n",
    "\n",
    "# Load training and validation data\n",
    "train_df = pd.read_csv('data/train.csv')\n",
    "val_df = pd.read_csv('data/val.csv')\n",
    "\n",
    "# Config\n",
    "run_config = {\n",
    "    'epochs': 5,\n",
    "    'max_len': 100,\n",
    "    'batch_size': 32\n",
    "}\n",
    "\n",
    "# Initialize model\n",
    "model = BERTClassifier(train_df, val_df, tokenizer, hparams=run_config)\n",
    "\n",
    "# Initialize WandbLogger\n",
    "wandb_logger = WandbLogger(entity='yvokeller', project='data-chatbot') # log_model='all'\n",
    "wandb_logger.experiment.config.update(run_config)\n",
    "\n",
    "# Initialize Trainer\n",
    "trainer = pl.Trainer(\n",
    "    max_epochs=run_config.get('epochs'), \n",
    "    logger=wandb_logger, \n",
    "    log_every_n_steps=1, \n",
    "    enable_progress_bar=True\n",
    ")\n",
    "\n",
    "# Train the model\n",
    "trainer.fit(model)\n",
    "\n",
    "# Close WandB logger\n",
    "wandb.finish()"
   ]
  },
  {
   "cell_type": "markdown",
   "metadata": {},
   "source": [
    "## Fine-Tune BERT Classifier"
   ]
  },
  {
   "cell_type": "code",
   "execution_count": null,
   "metadata": {},
   "outputs": [],
   "source": [
    "# BERT model initialization\n",
    "model = BertForSequenceClassification.from_pretrained('bert-base-multilingual-cased', num_labels=3)\n",
    "\n",
    "# Optimizer and Loss function\n",
    "optimizer = Adam(model.parameters(), lr=1e-5)\n",
    "loss_function = torch.nn.CrossEntropyLoss()\n",
    "\n",
    "# Fine-tuning loop\n",
    "epochs = 3  # Replace with the number of epochs you want\n",
    "\n",
    "for epoch in range(epochs):\n",
    "    for _, data in enumerate(data_loader, 0):\n",
    "        ids = data['ids']\n",
    "        mask = data['mask']\n",
    "        token_type_ids = data['token_type_ids']\n",
    "        labels = data['labels']\n",
    "\n",
    "        outputs = model(ids, attention_mask=mask, token_type_ids=token_type_ids, labels=labels)\n",
    "        loss = outputs.loss\n",
    "        loss.backward()\n",
    "        \n",
    "        optimizer.step()\n",
    "        optimizer.zero_grad()\n",
    "\n",
    "print(\"Fine-tuning completed!\")"
   ]
  },
  {
   "cell_type": "markdown",
   "metadata": {},
   "source": [
    "## Evaluating the BERT Classifier"
   ]
  },
  {
   "cell_type": "code",
   "execution_count": null,
   "metadata": {},
   "outputs": [],
   "source": [
    "# Create DataLoader for test data\n",
    "test_loader = get_dataloader('data/test.csv', tokenizer, MAX_LEN, shuffle=False)\n",
    "\n",
    "# Evaluate the model on test data\n",
    "accuracy = evaluate_model(model, test_loader)\n",
    "print(f\"Test Accuracy: {accuracy}\")"
   ]
  },
  {
   "cell_type": "markdown",
   "metadata": {},
   "source": [
    "## Using the BERT Classifier"
   ]
  },
  {
   "cell_type": "code",
   "execution_count": null,
   "metadata": {},
   "outputs": [],
   "source": [
    "def classify_user_prompt(text, model, tokenizer, label_mapping):\n",
    "    # Prepare the text into tokenized tensor\n",
    "    inputs = tokenizer(text, padding=True, truncation=True, return_tensors=\"pt\")\n",
    "    \n",
    "    # Run the text through the model\n",
    "    with torch.no_grad():\n",
    "        outputs = model(**inputs)\n",
    "        \n",
    "    # Get the predicted label index\n",
    "    _, predicted_idx = torch.max(outputs.logits, 1)\n",
    "    \n",
    "    # Convert the index to the corresponding label string\n",
    "    predicted_label = None\n",
    "    for label, idx in label_mapping.items():\n",
    "        if idx == predicted_idx.item():\n",
    "            predicted_label = label\n",
    "            break\n",
    "            \n",
    "    return predicted_label"
   ]
  },
  {
   "cell_type": "code",
   "execution_count": null,
   "metadata": {},
   "outputs": [],
   "source": [
    "# Example usage\n",
    "text = \"Mir geht es schlecht, das Studium ist sehr anstrengend.\"\n",
    "predicted_label = classify_user_prompt(text, model, tokenizer, label_mapping)\n",
    "print(f\"The predicted label for the text is: {predicted_label}\")\n"
   ]
  }
 ],
 "metadata": {
  "kernelspec": {
   "display_name": "deep-learning",
   "language": "python",
   "name": "python3"
  },
  "language_info": {
   "codemirror_mode": {
    "name": "ipython",
    "version": 3
   },
   "file_extension": ".py",
   "mimetype": "text/x-python",
   "name": "python",
   "nbconvert_exporter": "python",
   "pygments_lexer": "ipython3",
   "version": "3.10.9"
  },
  "orig_nbformat": 4
 },
 "nbformat": 4,
 "nbformat_minor": 2
}
