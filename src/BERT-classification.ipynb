{
 "cells": [
  {
   "cell_type": "code",
   "execution_count": 6,
   "metadata": {},
   "outputs": [],
   "source": [
    "import pytorch_lightning as pl\n",
    "from pytorch_lightning.loggers import WandbLogger\n",
    "import pandas as pd\n",
    "\n",
    "from transformers import BertTokenizer, BertForSequenceClassification\n",
    "\n",
    "import torch\n",
    "from torch.utils.data import Dataset, DataLoader\n",
    "from torch.optim import Adam\n",
    "\n",
    "import wandb"
   ]
  },
  {
   "cell_type": "markdown",
   "metadata": {},
   "source": [
    "# BERT Classifier\n",
    "\n",
    "Our BERT classifier for the Data Chatbot.\n",
    "\n",
    "**Relevant Resources**\n",
    "\n",
    "- https://docs.wandb.ai/guides/integrations/lightning#logger-arguments\n",
    "- https://pytorch-lightning.readthedocs.io/en/0.9.0/hyperparameters.html"
   ]
  },
  {
   "cell_type": "markdown",
   "metadata": {},
   "source": [
    "## Data Loader & Tokenizer"
   ]
  },
  {
   "cell_type": "code",
   "execution_count": 13,
   "metadata": {},
   "outputs": [],
   "source": [
    "class ClassifierDataset(Dataset):\n",
    "    def __init__(self, dataframe, tokenizer, max_len):\n",
    "        self.tokenizer = tokenizer\n",
    "        self.data = dataframe\n",
    "        self.text = dataframe.text\n",
    "        self.labels = dataframe.label\n",
    "        self.max_len = max_len\n",
    "\n",
    "    def __len__(self):\n",
    "        return len(self.text)\n",
    "\n",
    "    def __getitem__(self, index):\n",
    "        text = str(self.text[index])\n",
    "        text = \" \".join(text.split()) # Removes any extra whitespace\n",
    "\n",
    "        # https://huggingface.co/docs/transformers/v4.34.0/en/internal/tokenization_utils#transformers.PreTrainedTokenizerBase.__call__\n",
    "        inputs = self.tokenizer(\n",
    "            text,\n",
    "            None,\n",
    "            add_special_tokens=True, # Add '[CLS]' and '[SEP]', default True\n",
    "            max_length=self.max_len, # Maximum length to use by one of the truncation/padding parameters\n",
    "            padding='max_length', # Pad to a maximum length specified with the argument max_length\n",
    "            truncation=True, # Truncate to a maximum length specified with the argument max_length\n",
    "        )\n",
    "        ids = inputs['input_ids'] # Indices of input sequence tokens in the vocabulary\n",
    "        mask = inputs['attention_mask'] # Mask to avoid performing attention on padding token indices\n",
    "\n",
    "        return {\n",
    "            'ids': torch.tensor(ids, dtype=torch.long),\n",
    "            'mask': torch.tensor(mask, dtype=torch.long),\n",
    "            'labels': torch.tensor(self.labels[index], dtype=torch.long)\n",
    "        }\n",
    "\n",
    "class BERTClassifier(pl.LightningModule):\n",
    "    def __init__(self, hparams):\n",
    "        super(BERTClassifier, self).__init__()\n",
    "\n",
    "        # Save hyperparameters\n",
    "        self.hparams.update(hparams)\n",
    "        self.__configure_from_hyperparams()\n",
    "\n",
    "        self.model = BertForSequenceClassification.from_pretrained('bert-base-multilingual-cased', num_labels=3)\n",
    "    \n",
    "    def forward(self, ids, mask):\n",
    "        output = self.model(ids, attention_mask=mask)\n",
    "        return output.logits\n",
    "\n",
    "    def training_step(self, batch, batch_nb):\n",
    "        return self.__step(batch, batch_nb, 'train')\n",
    "\n",
    "    def validation_step(self, batch, batch_nb):\n",
    "        return self.__step(batch, batch_nb, 'val')\n",
    "\n",
    "    def configure_optimizers(self):\n",
    "        return Adam(self.parameters(), lr=1e-5)\n",
    "\n",
    "    def __configure_from_hyperparams(self):\n",
    "        # Set optional hyperparameters to default values\n",
    "        self.max_len = self.hparams.get(\"max_len\", 100)\n",
    "        self.batch_size =  self.hparams.get(\"batch_size\", 32)\n",
    "\n",
    "    def __step(self, batch, batch_idx, stage):\n",
    "        preds, loss, accuracy = self.__get_preds_loss_accuracy(batch)\n",
    "        \n",
    "        self.log(\n",
    "            f'{stage}/accuracy',\n",
    "            accuracy,\n",
    "            on_step=False,\n",
    "            on_epoch=True,\n",
    "            prog_bar=True,\n",
    "            logger=True,\n",
    "        )\n",
    "        self.log(f'{stage}/loss', loss)\n",
    "\n",
    "        return loss\n",
    "\n",
    "    def __get_preds_loss_accuracy(self, batch):\n",
    "        # Helper function to get predictions and loss\n",
    "        ids = batch['ids']\n",
    "        mask = batch['mask']\n",
    "        labels = batch['labels']\n",
    "        \n",
    "        preds = self(ids, mask)\n",
    "        loss = torch.nn.CrossEntropyLoss()(preds, labels)\n",
    "\n",
    "        # Calculate accuracy\n",
    "        _, predicted = torch.max(preds, 1)\n",
    "        correct = (predicted == labels).sum().item()\n",
    "        total = labels.size(0)\n",
    "        accuracy = correct / total\n",
    "\n",
    "        return preds, loss, accuracy\n",
    "\n",
    "    \n",
    "# Load data and return DataLoader\n",
    "def get_dataloader(df, tokenizer, max_len=None, batch_size=32, shuffle=True, nobatch=False):\n",
    "    \"\"\"\n",
    "    Loads data into a PyTorch DataLoader object.\n",
    "\n",
    "    Parameters:\n",
    "    - df (pd.DataFrame): The data frame containing the text and labels.\n",
    "    - tokenizer (Tokenizer): The tokenizer to be used.\n",
    "    - max_len (int, optional): The maximum length for the tokenized sequences. Defaults to None (model's limitation).\n",
    "    - batch_size (int, optional): The size of each batch. Defaults to 32.\n",
    "    - shuffle (bool, optional): Whether to shuffle the data. Defaults to True.\n",
    "    - nobatch (bool, optional): Whether to disable batching. If True, batch_size will be set to the length of df. Defaults to False.\n",
    "\n",
    "    Returns:\n",
    "    - DataLoader: A PyTorch DataLoader object containing the tokenized data.\n",
    "\n",
    "    Notes:\n",
    "    - The label mapping {'other': 0, 'question': 1, 'concern': 2} is applied to the labels in df.\n",
    "    \"\"\"\n",
    "    label_mapping = {'other': 0, 'question': 1, 'concern': 2}\n",
    "    df['label'] = df['label'].map(label_mapping)\n",
    "    dataset = ClassifierDataset(df, tokenizer, max_len)\n",
    "\n",
    "    # Handle nobatch\n",
    "    batch_size = batch_size if not nobatch else df.__len__()\n",
    "    print(f\"DataLoader | No Batch: {nobatch}; Batch Size: {batch_size}\")\n",
    "\n",
    "    # Create DataLoader\n",
    "    params = {'batch_size': batch_size, 'shuffle': shuffle, 'num_workers': 0}\n",
    "    data_loader = DataLoader(dataset, **params)\n",
    "    return data_loader\n"
   ]
  },
  {
   "cell_type": "code",
   "execution_count": 15,
   "metadata": {},
   "outputs": [
    {
     "name": "stdout",
     "output_type": "stream",
     "text": [
      "DataLoader | No Batch: False; Batch Size: 32\n",
      "DataLoader | No Batch: True; Batch Size: 3\n"
     ]
    },
    {
     "name": "stderr",
     "output_type": "stream",
     "text": [
      "Some weights of BertForSequenceClassification were not initialized from the model checkpoint at bert-base-multilingual-cased and are newly initialized: ['classifier.bias', 'classifier.weight']\n",
      "You should probably TRAIN this model on a down-stream task to be able to use it for predictions and inference.\n"
     ]
    },
    {
     "data": {
      "text/html": [
       "Tracking run with wandb version 0.15.12"
      ],
      "text/plain": [
       "<IPython.core.display.HTML object>"
      ]
     },
     "metadata": {},
     "output_type": "display_data"
    },
    {
     "data": {
      "text/html": [
       "Run data is saved locally in <code>./wandb/run-20231009_153453-e80nkmsy</code>"
      ],
      "text/plain": [
       "<IPython.core.display.HTML object>"
      ]
     },
     "metadata": {},
     "output_type": "display_data"
    },
    {
     "data": {
      "text/html": [
       "Syncing run <strong><a href='https://wandb.ai/yvokeller/data-chatbot/runs/e80nkmsy' target=\"_blank\">wandering-wave-6</a></strong> to <a href='https://wandb.ai/yvokeller/data-chatbot' target=\"_blank\">Weights & Biases</a> (<a href='https://wandb.me/run' target=\"_blank\">docs</a>)<br/>"
      ],
      "text/plain": [
       "<IPython.core.display.HTML object>"
      ]
     },
     "metadata": {},
     "output_type": "display_data"
    },
    {
     "data": {
      "text/html": [
       " View project at <a href='https://wandb.ai/yvokeller/data-chatbot' target=\"_blank\">https://wandb.ai/yvokeller/data-chatbot</a>"
      ],
      "text/plain": [
       "<IPython.core.display.HTML object>"
      ]
     },
     "metadata": {},
     "output_type": "display_data"
    },
    {
     "data": {
      "text/html": [
       " View run at <a href='https://wandb.ai/yvokeller/data-chatbot/runs/e80nkmsy' target=\"_blank\">https://wandb.ai/yvokeller/data-chatbot/runs/e80nkmsy</a>"
      ],
      "text/plain": [
       "<IPython.core.display.HTML object>"
      ]
     },
     "metadata": {},
     "output_type": "display_data"
    },
    {
     "name": "stderr",
     "output_type": "stream",
     "text": [
      "GPU available: True (mps), used: True\n",
      "TPU available: False, using: 0 TPU cores\n",
      "IPU available: False, using: 0 IPUs\n",
      "HPU available: False, using: 0 HPUs\n",
      "\n",
      "  | Name  | Type                          | Params\n",
      "--------------------------------------------------------\n",
      "0 | model | BertForSequenceClassification | 177 M \n",
      "--------------------------------------------------------\n",
      "177 M     Trainable params\n",
      "0         Non-trainable params\n",
      "177 M     Total params\n",
      "711.423   Total estimated model params size (MB)\n"
     ]
    },
    {
     "data": {
      "application/vnd.jupyter.widget-view+json": {
       "model_id": "bff19f4f533a44708f4b62826f6711a8",
       "version_major": 2,
       "version_minor": 0
      },
      "text/plain": [
       "Sanity Checking: 0it [00:00, ?it/s]"
      ]
     },
     "metadata": {},
     "output_type": "display_data"
    },
    {
     "name": "stderr",
     "output_type": "stream",
     "text": [
      "/opt/homebrew/Caskroom/miniforge/base/envs/deep-learning/lib/python3.10/site-packages/pytorch_lightning/trainer/connectors/data_connector.py:442: PossibleUserWarning: The dataloader, val_dataloader, does not have many workers which may be a bottleneck. Consider increasing the value of the `num_workers` argument` (try 12 which is the number of cpus on this machine) in the `DataLoader` init to improve performance.\n",
      "  rank_zero_warn(\n",
      "/opt/homebrew/Caskroom/miniforge/base/envs/deep-learning/lib/python3.10/site-packages/pytorch_lightning/trainer/connectors/data_connector.py:442: PossibleUserWarning: The dataloader, train_dataloader, does not have many workers which may be a bottleneck. Consider increasing the value of the `num_workers` argument` (try 12 which is the number of cpus on this machine) in the `DataLoader` init to improve performance.\n",
      "  rank_zero_warn(\n"
     ]
    },
    {
     "data": {
      "application/vnd.jupyter.widget-view+json": {
       "model_id": "cef3febdc9014b70b5631208d5c6d7da",
       "version_major": 2,
       "version_minor": 0
      },
      "text/plain": [
       "Training: 0it [00:00, ?it/s]"
      ]
     },
     "metadata": {},
     "output_type": "display_data"
    },
    {
     "data": {
      "application/vnd.jupyter.widget-view+json": {
       "model_id": "ea6a031b132b4d98848e1528575d2aad",
       "version_major": 2,
       "version_minor": 0
      },
      "text/plain": [
       "Validation: 0it [00:00, ?it/s]"
      ]
     },
     "metadata": {},
     "output_type": "display_data"
    },
    {
     "data": {
      "application/vnd.jupyter.widget-view+json": {
       "model_id": "f99453585e1b4d96a616e8f3ab23f65d",
       "version_major": 2,
       "version_minor": 0
      },
      "text/plain": [
       "Validation: 0it [00:00, ?it/s]"
      ]
     },
     "metadata": {},
     "output_type": "display_data"
    },
    {
     "data": {
      "application/vnd.jupyter.widget-view+json": {
       "model_id": "c73ccadbd04745d69b60e59f00138783",
       "version_major": 2,
       "version_minor": 0
      },
      "text/plain": [
       "Validation: 0it [00:00, ?it/s]"
      ]
     },
     "metadata": {},
     "output_type": "display_data"
    },
    {
     "data": {
      "application/vnd.jupyter.widget-view+json": {
       "model_id": "eefca7066cf7440d81aa88c0d4901c89",
       "version_major": 2,
       "version_minor": 0
      },
      "text/plain": [
       "Validation: 0it [00:00, ?it/s]"
      ]
     },
     "metadata": {},
     "output_type": "display_data"
    },
    {
     "data": {
      "application/vnd.jupyter.widget-view+json": {
       "model_id": "584b514968c843fabcc09d5a5b2ad2c5",
       "version_major": 2,
       "version_minor": 0
      },
      "text/plain": [
       "Validation: 0it [00:00, ?it/s]"
      ]
     },
     "metadata": {},
     "output_type": "display_data"
    },
    {
     "name": "stderr",
     "output_type": "stream",
     "text": [
      "`Trainer.fit` stopped: `max_epochs=5` reached.\n"
     ]
    },
    {
     "data": {
      "text/html": [
       "Waiting for W&B process to finish... <strong style=\"color:green\">(success).</strong>"
      ],
      "text/plain": [
       "<IPython.core.display.HTML object>"
      ]
     },
     "metadata": {},
     "output_type": "display_data"
    },
    {
     "name": "stderr",
     "output_type": "stream",
     "text": [
      "wandb: WARNING Source type is set to 'repo' but some required information is missing from the environment. A job will not be created from this run. See https://docs.wandb.ai/guides/launch/create-job\n"
     ]
    },
    {
     "data": {
      "application/vnd.jupyter.widget-view+json": {
       "model_id": "719710caee1f4020ba5114d3d12f7e9a",
       "version_major": 2,
       "version_minor": 0
      },
      "text/plain": [
       "VBox(children=(Label(value='0.001 MB of 0.013 MB uploaded (0.000 MB deduped)\\r'), FloatProgress(value=0.073629…"
      ]
     },
     "metadata": {},
     "output_type": "display_data"
    },
    {
     "data": {
      "text/html": [
       "<style>\n",
       "    table.wandb td:nth-child(1) { padding: 0 10px; text-align: left ; width: auto;} td:nth-child(2) {text-align: left ; width: 100%}\n",
       "    .wandb-row { display: flex; flex-direction: row; flex-wrap: wrap; justify-content: flex-start; width: 100% }\n",
       "    .wandb-col { display: flex; flex-direction: column; flex-basis: 100%; flex: 1; padding: 10px; }\n",
       "    </style>\n",
       "<div class=\"wandb-row\"><div class=\"wandb-col\"><h3>Run history:</h3><br/><table class=\"wandb\"><tr><td>epoch</td><td>▁▁▁▃▃▃▅▅▅▆▆▆███</td></tr><tr><td>train/accuracy</td><td>▁▁▁█▁</td></tr><tr><td>train/loss</td><td>█▄▂▁▁</td></tr><tr><td>trainer/global_step</td><td>▁▁▁▃▃▃▅▅▅▆▆▆███</td></tr><tr><td>val/accuracy</td><td>▁▁▁▁▁</td></tr><tr><td>val/loss</td><td>█▅▄▃▁</td></tr></table><br/></div><div class=\"wandb-col\"><h3>Run summary:</h3><br/><table class=\"wandb\"><tr><td>epoch</td><td>4</td></tr><tr><td>train/accuracy</td><td>0.33333</td></tr><tr><td>train/loss</td><td>0.9399</td></tr><tr><td>trainer/global_step</td><td>4</td></tr><tr><td>val/accuracy</td><td>0.33333</td></tr><tr><td>val/loss</td><td>1.0392</td></tr></table><br/></div></div>"
      ],
      "text/plain": [
       "<IPython.core.display.HTML object>"
      ]
     },
     "metadata": {},
     "output_type": "display_data"
    },
    {
     "data": {
      "text/html": [
       " View run <strong style=\"color:#cdcd00\">wandering-wave-6</strong> at: <a href='https://wandb.ai/yvokeller/data-chatbot/runs/e80nkmsy' target=\"_blank\">https://wandb.ai/yvokeller/data-chatbot/runs/e80nkmsy</a><br/>Synced 6 W&B file(s), 0 media file(s), 0 artifact file(s) and 0 other file(s)"
      ],
      "text/plain": [
       "<IPython.core.display.HTML object>"
      ]
     },
     "metadata": {},
     "output_type": "display_data"
    },
    {
     "data": {
      "text/html": [
       "Find logs at: <code>./wandb/run-20231009_153453-e80nkmsy/logs</code>"
      ],
      "text/plain": [
       "<IPython.core.display.HTML object>"
      ]
     },
     "metadata": {},
     "output_type": "display_data"
    }
   ],
   "source": [
    "# WandB initialization \n",
    "wandb.login()\n",
    "\n",
    "# Config\n",
    "run_config = {\n",
    "    'epochs': 5,\n",
    "    'max_len': 100,\n",
    "    'batch_size': 32\n",
    "}\n",
    "\n",
    "# Initialize BERT tokenizer\n",
    "tokenizer = BertTokenizer.from_pretrained('bert-base-multilingual-cased')\n",
    "\n",
    "# Load training and validation data\n",
    "train_df = pd.read_csv('data/train.csv')\n",
    "train_dataloader = get_dataloader(train_df, tokenizer, max_len=run_config.get('max_len'), batch_size=run_config.get('batch_size'))\n",
    "\n",
    "val_df = pd.read_csv('data/val.csv')\n",
    "val_dataloader = get_dataloader(val_df, tokenizer, run_config.get('max_len'), batch_size=run_config.get('batch_size'), shuffle=False, nobatch=True)\n",
    "\n",
    "# Initialize model\n",
    "model = BERTClassifier(hparams=run_config)\n",
    "\n",
    "# Initialize WandbLogger\n",
    "wandb_logger = WandbLogger(entity='yvokeller', project='data-chatbot') # log_model='all'\n",
    "wandb_logger.experiment.config.update(run_config)\n",
    "\n",
    "# Initialize Trainer\n",
    "trainer = pl.Trainer(\n",
    "    max_epochs=run_config.get('epochs'), \n",
    "    logger=wandb_logger, \n",
    "    log_every_n_steps=1, \n",
    "    enable_progress_bar=True\n",
    ")\n",
    "\n",
    "# Train the model\n",
    "trainer.fit(model, train_dataloader, val_dataloader)\n",
    "\n",
    "# Close WandB logger\n",
    "wandb.finish()"
   ]
  },
  {
   "cell_type": "markdown",
   "metadata": {},
   "source": [
    "## Fine-Tune BERT Classifier"
   ]
  },
  {
   "cell_type": "code",
   "execution_count": null,
   "metadata": {},
   "outputs": [],
   "source": [
    "# BERT model initialization\n",
    "model = BertForSequenceClassification.from_pretrained('bert-base-multilingual-cased', num_labels=3)\n",
    "\n",
    "# Optimizer and Loss function\n",
    "optimizer = Adam(model.parameters(), lr=1e-5)\n",
    "loss_function = torch.nn.CrossEntropyLoss()\n",
    "\n",
    "# Fine-tuning loop\n",
    "epochs = 3  # Replace with the number of epochs you want\n",
    "\n",
    "for epoch in range(epochs):\n",
    "    for _, data in enumerate(data_loader, 0):\n",
    "        ids = data['ids']\n",
    "        mask = data['mask']\n",
    "        token_type_ids = data['token_type_ids']\n",
    "        labels = data['labels']\n",
    "\n",
    "        outputs = model(ids, attention_mask=mask, token_type_ids=token_type_ids, labels=labels)\n",
    "        loss = outputs.loss\n",
    "        loss.backward()\n",
    "        \n",
    "        optimizer.step()\n",
    "        optimizer.zero_grad()\n",
    "\n",
    "print(\"Fine-tuning completed!\")"
   ]
  },
  {
   "cell_type": "markdown",
   "metadata": {},
   "source": [
    "## Evaluating the BERT Classifier"
   ]
  },
  {
   "cell_type": "code",
   "execution_count": null,
   "metadata": {},
   "outputs": [],
   "source": [
    "# Create DataLoader for test data\n",
    "test_loader = get_dataloader('data/test.csv', tokenizer, MAX_LEN, shuffle=False)\n",
    "\n",
    "# Evaluate the model on test data\n",
    "accuracy = evaluate_model(model, test_loader)\n",
    "print(f\"Test Accuracy: {accuracy}\")"
   ]
  },
  {
   "cell_type": "markdown",
   "metadata": {},
   "source": [
    "## Using the BERT Classifier"
   ]
  },
  {
   "cell_type": "code",
   "execution_count": null,
   "metadata": {},
   "outputs": [],
   "source": [
    "def classify_user_prompt(text, model, tokenizer, label_mapping):\n",
    "    # Prepare the text into tokenized tensor\n",
    "    inputs = tokenizer(text, padding=True, truncation=True, return_tensors=\"pt\")\n",
    "    \n",
    "    # Run the text through the model\n",
    "    with torch.no_grad():\n",
    "        outputs = model(**inputs)\n",
    "        \n",
    "    # Get the predicted label index\n",
    "    _, predicted_idx = torch.max(outputs.logits, 1)\n",
    "    \n",
    "    # Convert the index to the corresponding label string\n",
    "    predicted_label = None\n",
    "    for label, idx in label_mapping.items():\n",
    "        if idx == predicted_idx.item():\n",
    "            predicted_label = label\n",
    "            break\n",
    "            \n",
    "    return predicted_label"
   ]
  },
  {
   "cell_type": "code",
   "execution_count": null,
   "metadata": {},
   "outputs": [],
   "source": [
    "# Example usage\n",
    "text = \"Mir geht es schlecht, das Studium ist sehr anstrengend.\"\n",
    "predicted_label = classify_user_prompt(text, model, tokenizer, label_mapping)\n",
    "print(f\"The predicted label for the text is: {predicted_label}\")\n"
   ]
  }
 ],
 "metadata": {
  "kernelspec": {
   "display_name": "deep-learning",
   "language": "python",
   "name": "python3"
  },
  "language_info": {
   "codemirror_mode": {
    "name": "ipython",
    "version": 3
   },
   "file_extension": ".py",
   "mimetype": "text/x-python",
   "name": "python",
   "nbconvert_exporter": "python",
   "pygments_lexer": "ipython3",
   "version": "3.10.9"
  },
  "orig_nbformat": 4
 },
 "nbformat": 4,
 "nbformat_minor": 2
}
