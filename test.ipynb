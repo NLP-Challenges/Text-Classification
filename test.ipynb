{
 "cells": [
  {
   "cell_type": "code",
   "execution_count": 1,
   "metadata": {},
   "outputs": [
    {
     "name": "stderr",
     "output_type": "stream",
     "text": [
      "c:\\Users\\tobia\\anaconda3\\envs\\chatbot-classification\\Lib\\site-packages\\tqdm\\auto.py:21: TqdmWarning: IProgress not found. Please update jupyter and ipywidgets. See https://ipywidgets.readthedocs.io/en/stable/user_install.html\n",
      "  from .autonotebook import tqdm as notebook_tqdm\n"
     ]
    }
   ],
   "source": [
    "from datasets import load_dataset\n",
    "import pandas as pd\n",
    "import re\n",
    "import seaborn as sns\n",
    "import matplotlib.pyplot as plt"
   ]
  },
  {
   "cell_type": "code",
   "execution_count": 2,
   "metadata": {},
   "outputs": [
    {
     "data": {
      "text/html": [
       "<div>\n",
       "<style scoped>\n",
       "    .dataframe tbody tr th:only-of-type {\n",
       "        vertical-align: middle;\n",
       "    }\n",
       "\n",
       "    .dataframe tbody tr th {\n",
       "        vertical-align: top;\n",
       "    }\n",
       "\n",
       "    .dataframe thead th {\n",
       "        text-align: right;\n",
       "    }\n",
       "</style>\n",
       "<table border=\"1\" class=\"dataframe\">\n",
       "  <thead>\n",
       "    <tr style=\"text-align: right;\">\n",
       "      <th></th>\n",
       "      <th>text</th>\n",
       "    </tr>\n",
       "  </thead>\n",
       "  <tbody>\n",
       "    <tr>\n",
       "      <th>0</th>\n",
       "      <td>Von welchem Gesetzt stammt das Amerikanische ab?</td>\n",
       "    </tr>\n",
       "    <tr>\n",
       "      <th>1</th>\n",
       "      <td>Warum unterscheidet sich das amerikanische Rec...</td>\n",
       "    </tr>\n",
       "    <tr>\n",
       "      <th>2</th>\n",
       "      <td>Wie viele ethnische Gruppen und indigenen Völk...</td>\n",
       "    </tr>\n",
       "    <tr>\n",
       "      <th>3</th>\n",
       "      <td>Woher kommt die Sexuelle Orientierung von Mens...</td>\n",
       "    </tr>\n",
       "    <tr>\n",
       "      <th>4</th>\n",
       "      <td>Seit wann gehört Guam zu dem Gebiet der Verein...</td>\n",
       "    </tr>\n",
       "    <tr>\n",
       "      <th>...</th>\n",
       "      <td>...</td>\n",
       "    </tr>\n",
       "    <tr>\n",
       "      <th>11513</th>\n",
       "      <td>Welchem Staat wurde Eritrea nach dem Zweiten W...</td>\n",
       "    </tr>\n",
       "    <tr>\n",
       "      <th>11514</th>\n",
       "      <td>In welchem Jahr annektierte Haile Selassie Eri...</td>\n",
       "    </tr>\n",
       "    <tr>\n",
       "      <th>11515</th>\n",
       "      <td>Wie lange dauerte der Unabhängigkeitskampf in ...</td>\n",
       "    </tr>\n",
       "    <tr>\n",
       "      <th>11516</th>\n",
       "      <td>Wann endete der Kampf um die Unabhängigkeit Er...</td>\n",
       "    </tr>\n",
       "    <tr>\n",
       "      <th>11517</th>\n",
       "      <td>Welcher Tag ist eritreischer Nationalfeiertag?</td>\n",
       "    </tr>\n",
       "  </tbody>\n",
       "</table>\n",
       "<p>11518 rows × 1 columns</p>\n",
       "</div>"
      ],
      "text/plain": [
       "                                                    text\n",
       "0      Von welchem Gesetzt stammt das Amerikanische ab? \n",
       "1      Warum unterscheidet sich das amerikanische Rec...\n",
       "2      Wie viele ethnische Gruppen und indigenen Völk...\n",
       "3      Woher kommt die Sexuelle Orientierung von Mens...\n",
       "4      Seit wann gehört Guam zu dem Gebiet der Verein...\n",
       "...                                                  ...\n",
       "11513  Welchem Staat wurde Eritrea nach dem Zweiten W...\n",
       "11514  In welchem Jahr annektierte Haile Selassie Eri...\n",
       "11515  Wie lange dauerte der Unabhängigkeitskampf in ...\n",
       "11516  Wann endete der Kampf um die Unabhängigkeit Er...\n",
       "11517     Welcher Tag ist eritreischer Nationalfeiertag?\n",
       "\n",
       "[11518 rows x 1 columns]"
      ]
     },
     "execution_count": 2,
     "metadata": {},
     "output_type": "execute_result"
    }
   ],
   "source": [
    "data = load_dataset(\"deepset/germanquad\", split=\"train\")\n",
    "\n",
    "#remove 50% of the question marks\n",
    "questions = pd.DataFrame(data)[[\"question\"]]\n",
    "questions.columns = [\"text\"]\n",
    "\n",
    "questions"
   ]
  },
  {
   "cell_type": "code",
   "execution_count": 3,
   "metadata": {},
   "outputs": [
    {
     "data": {
      "image/png": "[encoded data removed]",
      "text/plain": [
       "<Figure size 640x480 with 1 Axes>"
      ]
     },
     "metadata": {},
     "output_type": "display_data"
    }
   ],
   "source": [
    "questions.text.apply(lambda x: len(x.split(\" \"))).hist(bins=50)\n",
    "plt.show()"
   ]
  },
  {
   "cell_type": "code",
   "execution_count": 4,
   "metadata": {},
   "outputs": [
    {
     "data": {
      "text/html": [
       "<div>\n",
       "<style scoped>\n",
       "    .dataframe tbody tr th:only-of-type {\n",
       "        vertical-align: middle;\n",
       "    }\n",
       "\n",
       "    .dataframe tbody tr th {\n",
       "        vertical-align: top;\n",
       "    }\n",
       "\n",
       "    .dataframe thead th {\n",
       "        text-align: right;\n",
       "    }\n",
       "</style>\n",
       "<table border=\"1\" class=\"dataframe\">\n",
       "  <thead>\n",
       "    <tr style=\"text-align: right;\">\n",
       "      <th></th>\n",
       "      <th>text</th>\n",
       "    </tr>\n",
       "  </thead>\n",
       "  <tbody>\n",
       "    <tr>\n",
       "      <th>4</th>\n",
       "      <td>@spdde kein verläßlicher Verhandlungspartner. ...</td>\n",
       "    </tr>\n",
       "    <tr>\n",
       "      <th>6</th>\n",
       "      <td>@milenahanm 33 bis 45 habe ich noch gar nicht ...</td>\n",
       "    </tr>\n",
       "    <tr>\n",
       "      <th>8</th>\n",
       "      <td>@tagesschau Euere AfD Hetze wirkt. Da könnt ih...</td>\n",
       "    </tr>\n",
       "    <tr>\n",
       "      <th>9</th>\n",
       "      <td>Deutsche Medien, Halbwahrheiten und einseitige...</td>\n",
       "    </tr>\n",
       "    <tr>\n",
       "      <th>11</th>\n",
       "      <td>@Ralf_Stegner Oman Ralle..dich mag ja immer no...</td>\n",
       "    </tr>\n",
       "    <tr>\n",
       "      <th>...</th>\n",
       "      <td>...</td>\n",
       "    </tr>\n",
       "    <tr>\n",
       "      <th>4993</th>\n",
       "      <td>@IM_NRW @FfFrauki Diese absolute Unfähigkeit ....</td>\n",
       "    </tr>\n",
       "    <tr>\n",
       "      <th>4994</th>\n",
       "      <td>Das Deutsche Kaiserreich soll wieder auferstehen</td>\n",
       "    </tr>\n",
       "    <tr>\n",
       "      <th>5005</th>\n",
       "      <td>@GlasenappHenrik Zu Merkel fällt mir nur ein, ...</td>\n",
       "    </tr>\n",
       "    <tr>\n",
       "      <th>5006</th>\n",
       "      <td>@KokoLores20 @krippmarie Ein richtiges Zeichen...</td>\n",
       "    </tr>\n",
       "    <tr>\n",
       "      <th>5007</th>\n",
       "      <td>@Hartes_Geld ,Honecker‘Merkel macht uns zur ,D...</td>\n",
       "    </tr>\n",
       "  </tbody>\n",
       "</table>\n",
       "<p>1688 rows × 1 columns</p>\n",
       "</div>"
      ],
      "text/plain": [
       "                                                   text\n",
       "4     @spdde kein verläßlicher Verhandlungspartner. ...\n",
       "6     @milenahanm 33 bis 45 habe ich noch gar nicht ...\n",
       "8     @tagesschau Euere AfD Hetze wirkt. Da könnt ih...\n",
       "9     Deutsche Medien, Halbwahrheiten und einseitige...\n",
       "11    @Ralf_Stegner Oman Ralle..dich mag ja immer no...\n",
       "...                                                 ...\n",
       "4993  @IM_NRW @FfFrauki Diese absolute Unfähigkeit ....\n",
       "4994   Das Deutsche Kaiserreich soll wieder auferstehen\n",
       "5005  @GlasenappHenrik Zu Merkel fällt mir nur ein, ...\n",
       "5006  @KokoLores20 @krippmarie Ein richtiges Zeichen...\n",
       "5007  @Hartes_Geld ,Honecker‘Merkel macht uns zur ,D...\n",
       "\n",
       "[1688 rows x 1 columns]"
      ]
     },
     "execution_count": 4,
     "metadata": {},
     "output_type": "execute_result"
    }
   ],
   "source": [
    "data = load_dataset(\"philschmid/germeval18\", split=\"train\")\n",
    "\n",
    "germeval18 = pd.DataFrame(data)\n",
    "\n",
    "match = re.compile(r'[^a-zA-Z\\säßüö\\\"\\'.!?]', flags=re.UNICODE)\n",
    "\n",
    "def correction(text:str):\n",
    "    \"\"\"Removes username calling (@Username), only allows text, punktucation, double quote, single quote and replaces 'ß' with 'ss'\n",
    "    \"\"\"\n",
    "    return match.sub(u'', str.join(\" \", [word.replace(\"ß\", \"ss\") for word in text.split(\" \") if not str.startswith(word, \"@\")]))\n",
    "\n",
    "['INSULT', 'PROFANITY', 'ABUSE']\n",
    "\n",
    "offensive = germeval18[germeval18.binary == \"OFFENSE\"][[\"text\"]]\n",
    "offensive.columns = [\"text\"]\n",
    "\n",
    "offensive"
   ]
  },
  {
   "cell_type": "code",
   "execution_count": 5,
   "metadata": {},
   "outputs": [
    {
     "data": {
      "text/html": [
       "<div>\n",
       "<style scoped>\n",
       "    .dataframe tbody tr th:only-of-type {\n",
       "        vertical-align: middle;\n",
       "    }\n",
       "\n",
       "    .dataframe tbody tr th {\n",
       "        vertical-align: top;\n",
       "    }\n",
       "\n",
       "    .dataframe thead th {\n",
       "        text-align: right;\n",
       "    }\n",
       "</style>\n",
       "<table border=\"1\" class=\"dataframe\">\n",
       "  <thead>\n",
       "    <tr style=\"text-align: right;\">\n",
       "      <th></th>\n",
       "      <th>text</th>\n",
       "    </tr>\n",
       "  </thead>\n",
       "  <tbody>\n",
       "    <tr>\n",
       "      <th>4</th>\n",
       "      <td>kein verlässlicher Verhandlungspartner. Nachka...</td>\n",
       "    </tr>\n",
       "    <tr>\n",
       "      <th>6</th>\n",
       "      <td>bis  habe ich noch gar nicht gelebt und es ge...</td>\n",
       "    </tr>\n",
       "    <tr>\n",
       "      <th>8</th>\n",
       "      <td>Euere AfD Hetze wirkt. Da könnt ihr stolz sein...</td>\n",
       "    </tr>\n",
       "    <tr>\n",
       "      <th>9</th>\n",
       "      <td>Deutsche Medien Halbwahrheiten und einseitige ...</td>\n",
       "    </tr>\n",
       "    <tr>\n",
       "      <th>11</th>\n",
       "      <td>Oman Ralle..dich mag ja immer noch keiner. Du ...</td>\n",
       "    </tr>\n",
       "    <tr>\n",
       "      <th>...</th>\n",
       "      <td>...</td>\n",
       "    </tr>\n",
       "    <tr>\n",
       "      <th>4993</th>\n",
       "      <td>Diese absolute Unfähigkeit ...schleicht sich d...</td>\n",
       "    </tr>\n",
       "    <tr>\n",
       "      <th>4994</th>\n",
       "      <td>Das Deutsche Kaiserreich soll wieder auferstehen</td>\n",
       "    </tr>\n",
       "    <tr>\n",
       "      <th>5005</th>\n",
       "      <td>Zu Merkel fällt mir nur ein ein Mal Verräterin...</td>\n",
       "    </tr>\n",
       "    <tr>\n",
       "      <th>5006</th>\n",
       "      <td>Ein richtiges Zeichen unserer Nachbarn...schle...</td>\n",
       "    </tr>\n",
       "    <tr>\n",
       "      <th>5007</th>\n",
       "      <td>HoneckerMerkel macht uns zur DDR Klagen werden...</td>\n",
       "    </tr>\n",
       "  </tbody>\n",
       "</table>\n",
       "<p>1688 rows × 1 columns</p>\n",
       "</div>"
      ],
      "text/plain": [
       "                                                   text\n",
       "4     kein verlässlicher Verhandlungspartner. Nachka...\n",
       "6      bis  habe ich noch gar nicht gelebt und es ge...\n",
       "8     Euere AfD Hetze wirkt. Da könnt ihr stolz sein...\n",
       "9     Deutsche Medien Halbwahrheiten und einseitige ...\n",
       "11    Oman Ralle..dich mag ja immer noch keiner. Du ...\n",
       "...                                                 ...\n",
       "4993  Diese absolute Unfähigkeit ...schleicht sich d...\n",
       "4994   Das Deutsche Kaiserreich soll wieder auferstehen\n",
       "5005  Zu Merkel fällt mir nur ein ein Mal Verräterin...\n",
       "5006  Ein richtiges Zeichen unserer Nachbarn...schle...\n",
       "5007  HoneckerMerkel macht uns zur DDR Klagen werden...\n",
       "\n",
       "[1688 rows x 1 columns]"
      ]
     },
     "execution_count": 5,
     "metadata": {},
     "output_type": "execute_result"
    }
   ],
   "source": [
    "offensive[\"text\"] = offensive.text.apply(correction)\n",
    "\n",
    "offensive"
   ]
  },
  {
   "cell_type": "code",
   "execution_count": 6,
   "metadata": {},
   "outputs": [
    {
     "data": {
      "text/plain": [
       "<Axes: >"
      ]
     },
     "execution_count": 6,
     "metadata": {},
     "output_type": "execute_result"
    },
    {
     "data": {
      "image/png": "[encoded data removed]",
      "text/plain": [
       "<Figure size 640x480 with 1 Axes>"
      ]
     },
     "metadata": {},
     "output_type": "display_data"
    }
   ],
   "source": [
    "offensive.text.apply(lambda x: len(x.split(\" \"))).hist(bins=50)"
   ]
  },
  {
   "cell_type": "code",
   "execution_count": 22,
   "metadata": {},
   "outputs": [
    {
     "data": {
      "text/plain": [
       "<Axes: >"
      ]
     },
     "metadata": {},
     "output_type": "display_data"
    },
    {
     "data": {
      "image/png": "[encoded data removed]",
      "text/plain": [
       "<Figure size 640x480 with 1 Axes>"
      ]
     },
     "metadata": {},
     "output_type": "display_data"
    },
    {
     "data": {
      "text/plain": [
       "<Axes: >"
      ]
     },
     "metadata": {},
     "output_type": "display_data"
    },
    {
     "data": {
      "image/png": "[encoded data removed]",
      "text/plain": [
       "<Figure size 640x480 with 1 Axes>"
      ]
     },
     "metadata": {},
     "output_type": "display_data"
    },
    {
     "data": {
      "text/plain": [
       "<Axes: >"
      ]
     },
     "metadata": {},
     "output_type": "display_data"
    },
    {
     "data": {
      "image/png": "[encoded data removed]",
      "text/plain": [
       "<Figure size 640x480 with 1 Axes>"
      ]
     },
     "metadata": {},
     "output_type": "display_data"
    },
    {
     "data": {
      "text/plain": [
       "<Axes: >"
      ]
     },
     "metadata": {},
     "output_type": "display_data"
    },
    {
     "data": {
      "image/png": "[encoded data removed]",
      "text/plain": [
       "<Figure size 640x480 with 1 Axes>"
      ]
     },
     "metadata": {},
     "output_type": "display_data"
    }
   ],
   "source": [
    "def sampler(df1:pd.DataFrame, df2:pd.DataFrame, min_max_bins:tuple, train_split:float=0.8):\n",
    "    \"\"\"Align distribution of word count per sample between df1 and df2 by random sampling. Additionally do a train test split by intervall.\n",
    "    Args:\n",
    "        df1 (pd.DataFrame): first dataframe\n",
    "        df2 (pd.DataFrame): second dataframe\n",
    "        min_max_bins (tuple): min token count, max token count, bin_size\n",
    "        train_amount (float): train size\n",
    "    \n",
    "    Returns:\n",
    "        (resampled train split from df1, resampled train split from df2, resampled test split from df1, resampled test split from df2) \n",
    "    \"\"\"\n",
    "\n",
    "    bins = pd.interval_range(start=min_max_bins[0], end=min_max_bins[1], freq=None, periods=min_max_bins[2], closed='right')\n",
    "\n",
    "    df1_interals = pd.cut(df1.text.apply(lambda x: len(x.split())), bins)\n",
    "    df2_interals = pd.cut(df2.text.apply(lambda x: len(x.split())), bins)\n",
    "\n",
    "    # Align counts Series\n",
    "    aligned1, aligned2 = df1_interals.value_counts().align(df2_interals.value_counts(), fill_value=0)\n",
    "\n",
    "    # Combine and choose smallest value\n",
    "    result = aligned1.combine(aligned2, func=lambda x, y: min(x, y))\n",
    "\n",
    "    # Remove intervals which only appear in one series\n",
    "    result = result[result != 0]\n",
    "\n",
    "    #create groups\n",
    "    df1_grouped = df1.groupby(df1_interals, observed=False)\n",
    "    df2_grouped = df2.groupby(df2_interals, observed=False)\n",
    "\n",
    "    #sampled dataframes stored here\n",
    "    df1_sampled_train = []\n",
    "    df2_sampled_train = []\n",
    "    df1_sampled_test = []\n",
    "    df2_sampled_test = []\n",
    "\n",
    "    #iterate over intervals and random sample text with certain length\n",
    "    for group, count in result.items():\n",
    "        \n",
    "        #random sample amount of 'count' from original\n",
    "        df1_sampled = df1_grouped.get_group(group).sample(count, ignore_index=True)\n",
    "        df2_sampled = df2_grouped.get_group(group).sample(count, ignore_index=True)\n",
    "\n",
    "        #get training split\n",
    "        df1_train = df1_sampled.sample(frac=train_split)\n",
    "        df2_train = df2_sampled.sample(frac=train_split)\n",
    "\n",
    "        #get test split\n",
    "        df1_test = df1_sampled.drop(df1_train.index)\n",
    "        df2_test = df2_sampled.drop(df2_train.index)\n",
    "\n",
    "        df1_sampled_train.append(df1_train)\n",
    "        df2_sampled_train.append(df2_train)\n",
    "        df1_sampled_test.append(df1_test)\n",
    "        df2_sampled_test.append(df2_test)\n",
    "        \n",
    "        \n",
    "    #return concatted\n",
    "    return pd.concat(df1_sampled_train, ignore_index=True), pd.concat(df2_sampled_train, ignore_index=True), pd.concat(df1_sampled_test, ignore_index=True), pd.concat(df2_sampled_test, ignore_index=True)\n",
    "\n",
    "sampled_df1_train, sampled_df2_train, sampled_df1_test, sampled_df2_test = sampler(questions, offensive, (3, 13, 10))\n",
    "\n",
    "display(sampled_df1_train.text.apply(lambda x: len(x.split())).hist(bins=10))\n",
    "plt.show()\n",
    "display(sampled_df2_train.text.apply(lambda x: len(x.split())).hist(bins=10))\n",
    "plt.show()\n",
    "display(sampled_df1_test.text.apply(lambda x: len(x.split())).hist(bins=10))\n",
    "plt.show()\n",
    "display(sampled_df2_test.text.apply(lambda x: len(x.split())).hist(bins=10))\n",
    "plt.show()"
   ]
  }
 ],
 "metadata": {
  "kernelspec": {
   "display_name": "chatbot-classification",
   "language": "python",
   "name": "python3"
  },
  "language_info": {
   "codemirror_mode": {
    "name": "ipython",
    "version": 3
   },
   "file_extension": ".py",
   "mimetype": "text/x-python",
   "name": "python",
   "nbconvert_exporter": "python",
   "pygments_lexer": "ipython3",
   "version": "3.11.4"
  }
 },
 "nbformat": 4,
 "nbformat_minor": 2
}
